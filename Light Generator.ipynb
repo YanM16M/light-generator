{
 "cells": [
  {
   "cell_type": "code",
   "execution_count": 1,
   "id": "f6d7d06b",
   "metadata": {},
   "outputs": [],
   "source": [
    "import os\n",
    "\n",
    "import matplotlib.pyplot as plt\n",
    "import numpy as np\n",
    "import tensorflow as tf\n",
    "from PIL import Image\n",
    "from tensorflow.keras import layers\n",
    "from tensorflow.keras.layers import Conv2DTranspose, Reshape\n",
    "from tensorflow.keras.models import Sequential, load_model\n",
    "from tensorflow.keras.optimizers import Adam\n",
    "from tensorflow.python.client import device_lib"
   ]
  },
  {
   "cell_type": "code",
   "execution_count": 3,
   "id": "2fd0b79e",
   "metadata": {},
   "outputs": [],
   "source": [
    "print(device_lib.list_local_devices())"
   ]
  },
  {
   "cell_type": "code",
   "execution_count": 14,
   "id": "409fe586",
   "metadata": {},
   "outputs": [],
   "source": [
    "IMG_SIZE = 512"
   ]
  },
  {
   "cell_type": "code",
   "execution_count": 5,
   "id": "7a630037",
   "metadata": {},
   "outputs": [],
   "source": [
    "# Fonction pour charger les images avec PIL\n",
    "def load_images(chemin_dossier):\n",
    "    images = []\n",
    "    max_images = 10000\n",
    "    image = 1\n",
    "    for filename in os.listdir(chemin_dossier):\n",
    "        if image >= max_images:\n",
    "            break\n",
    "        chemin_image = os.path.join(chemin_dossier, filename)\n",
    "        img = Image.open(chemin_image).convert(\"L\")  # Convertit en niveaux de gris\n",
    "        img = img.resize(\n",
    "            (IMG_SIZE, IMG_SIZE)\n",
    "        )  # Redimensionne l'image à la taille attendue\n",
    "        img = np.array(img)  # Convertit l'image PIL en tableau NumPy\n",
    "        img = img / 127.5 - 1.0  # Normalise dans la plage [-1, 1]\n",
    "        if img is not None:\n",
    "            images.append(img)\n",
    "        image += 1\n",
    "    return np.array(images)"
   ]
  },
  {
   "cell_type": "code",
   "execution_count": 13,
   "id": "581b6fec",
   "metadata": {},
   "outputs": [],
   "source": [
    "# Fonction pour créer le générateur\n",
    "def build_generator(latent_dim):\n",
    "    model = Sequential()\n",
    "    model.add(\n",
    "        layers.Dense(256 * (IMG_SIZE // 8) * (IMG_SIZE // 8), input_dim=latent_dim)\n",
    "    )\n",
    "    model.add(layers.LeakyReLU(alpha=0.2))\n",
    "    model.add(layers.Reshape((IMG_SIZE // 8, IMG_SIZE // 8, 256)))\n",
    "    model.add(Conv2DTranspose(128, kernel_size=4, strides=2, padding=\"same\"))\n",
    "    model.add(layers.LeakyReLU(alpha=0.2))\n",
    "    model.add(layers.BatchNormalization(momentum=0.8))\n",
    "    model.add(Conv2DTranspose(64, kernel_size=4, strides=2, padding=\"same\"))\n",
    "    model.add(layers.LeakyReLU(alpha=0.2))\n",
    "    model.add(layers.BatchNormalization(momentum=0.8))\n",
    "    model.add(\n",
    "        Conv2DTranspose(1, kernel_size=4, strides=2, padding=\"same\", activation=\"tanh\")\n",
    "    )\n",
    "    return model\n",
    "\n",
    "\n",
    "# Fonction pour créer le discriminateur\n",
    "def build_discriminator():\n",
    "    img_shape = (IMG_SIZE, IMG_SIZE, 1)\n",
    "    model = Sequential()\n",
    "    model.add(\n",
    "        layers.Conv2D(\n",
    "            64, kernel_size=4, strides=2, padding=\"same\", input_shape=img_shape\n",
    "        )\n",
    "    )\n",
    "    model.add(layers.LeakyReLU(alpha=0.2))\n",
    "    model.add(layers.Conv2D(128, kernel_size=4, strides=2, padding=\"same\"))\n",
    "    model.add(layers.LeakyReLU(alpha=0.2))\n",
    "    model.add(layers.Conv2D(256, kernel_size=4, strides=2, padding=\"same\"))\n",
    "    model.add(layers.LeakyReLU(alpha=0.2))\n",
    "    model.add(layers.Flatten())\n",
    "    model.add(layers.Dense(1, activation=\"sigmoid\"))\n",
    "    return model\n",
    "\n",
    "\n",
    "# Fonction pour compiler le modèle GAN\n",
    "def build_gan(generator, discriminator):\n",
    "    discriminator.trainable = False\n",
    "    model = Sequential()\n",
    "    model.add(generator)\n",
    "    model.add(discriminator)\n",
    "    model.compile(\n",
    "        loss=\"binary_crossentropy\", optimizer=Adam(learning_rate=0.0002, beta_1=0.5)\n",
    "    )\n",
    "    return model\n",
    "\n",
    "\n",
    "# Fonction pour générer et afficher une image à partir du générateur dans le notebook\n",
    "def generate_and_show_image(generator, gan_model, epochs, latent_dim):\n",
    "    # Générer un vecteur de bruit aléatoire\n",
    "    noise = np.random.randn(1, latent_dim)\n",
    "\n",
    "    # Utiliser le générateur pour produire une image\n",
    "    generated_img = generator.predict(noise)\n",
    "\n",
    "    # Réajuster la normalisation [0, 1]\n",
    "    generated_img = 0.5 * generated_img + 0.5\n",
    "\n",
    "    # Afficher l'image générée\n",
    "    plt.imshow(generated_img[0, :, :, 0], cmap=\"gray\")\n",
    "    plt.axis(\"off\")\n",
    "    plt.title(f\"Generated Image - Epoch {epochs}\")\n",
    "    plt.show()\n",
    "\n",
    "\n",
    "# Fonction pour entraîner la GAN\n",
    "def train_gan(generator, discriminator, gan, epochs, batch_size, latent_dim, images):\n",
    "    print(\"Lancement de l'entraînement...\")\n",
    "    for epoch in range(epochs):\n",
    "        # Entraînement du discriminateur\n",
    "        idx = np.random.randint(0, images.shape[0], batch_size)\n",
    "        real_imgs = images[idx]\n",
    "        fake_imgs = generator.predict(np.random.randn(batch_size, latent_dim))\n",
    "        labels_real = np.ones((batch_size, 1))\n",
    "        labels_fake = np.zeros((batch_size, 1))\n",
    "        d_loss_real = discriminator.train_on_batch(real_imgs, labels_real)\n",
    "        d_loss_fake = discriminator.train_on_batch(fake_imgs, labels_fake)\n",
    "        d_loss = 0.5 * np.add(d_loss_real, d_loss_fake)\n",
    "\n",
    "        # Entraînement du générateur\n",
    "        noise = np.random.randn(batch_size, latent_dim)\n",
    "        labels_gan = np.ones((batch_size, 1))\n",
    "        g_loss = gan.train_on_batch(noise, labels_gan)\n",
    "\n",
    "        # Affichage de la progression\n",
    "        print(f\"Epoch {epoch}/{epochs} [D loss: {d_loss} | G loss: {g_loss}]\")\n",
    "    print(\"Entraînement terminé !\")\n",
    "\n",
    "\n",
    "def train_or_load_model(latent_dim, epochs, batch_size):\n",
    "    gan_name = \"goblin.h5\"\n",
    "    # On vérifie que le modèle sauvegardé existe\n",
    "    if os.path.exists(\"A:/python/\" + gan_name):\n",
    "        print(\"Chargement du modèle existant...\")\n",
    "        gan = tf.keras.models.load_model(\"A:/python/\" + gan_name)\n",
    "        print(\"Chargement du modèle terminé !\")\n",
    "    else:\n",
    "        print(\"Entraînement d'un nouveau modèle...\")\n",
    "        # On crée et compile les modèles\n",
    "        generator = build_generator(latent_dim)\n",
    "        discriminator = build_discriminator()\n",
    "\n",
    "        discriminator.compile(\n",
    "            loss=\"binary_crossentropy\", optimizer=Adam(learning_rate=0.0002, beta_1=0.5)\n",
    "        )\n",
    "        gan = build_gan(generator, discriminator)\n",
    "        gan.compile(\n",
    "            loss=\"binary_crossentropy\", optimizer=Adam(learning_rate=0.0002, beta_1=0.5)\n",
    "        )\n",
    "\n",
    "        # On charge les images pour l'entraînement\n",
    "        print(\"Chargement des images...\")\n",
    "        images = load_images(\"A:/python/training/images/images/\")\n",
    "\n",
    "        # On entraîne le modèle\n",
    "        train_gan(generator, discriminator, gan, epochs, batch_size, latent_dim, images)\n",
    "\n",
    "        # On sauvegarde le modèle après l'entraînement\n",
    "        gan.save(\"A:/python/\" + gan_name)\n",
    "\n",
    "    # On récupère le générateur du modèle GAN\n",
    "    generator = gan.layers[1]\n",
    "\n",
    "    return gan, generator"
   ]
  },
  {
   "cell_type": "code",
   "execution_count": null,
   "id": "703dbf32",
   "metadata": {
    "scrolled": true
   },
   "outputs": [
    {
     "name": "stdout",
     "output_type": "stream",
     "text": [
      "Entraînement d'un nouveau modèle...\n",
      "Chargement des images...\n",
      "Lancement de l'entraînement...\n",
      "1/1 [==============================] - 1s 1s/step\n",
      "WARNING:tensorflow:From C:\\Users\\YanM1\\anaconda3\\lib\\site-packages\\keras\\src\\utils\\tf_utils.py:492: The name tf.ragged.RaggedTensorValue is deprecated. Please use tf.compat.v1.ragged.RaggedTensorValue instead.\n",
      "\n",
      "Epoch 0/1000 [D loss: 0.6893504858016968 | G loss: 0.10479480773210526]\n",
      "1/1 [==============================] - 2s 2s/step\n"
     ]
    }
   ],
   "source": [
    "# Paramètres\n",
    "latent_dim = 100\n",
    "img_shape = (IMG_SIZE, IMG_SIZE, 1)\n",
    "batch_size = 32\n",
    "epochs = 1000\n",
    "\n",
    "# Charger ou entraîner le modèle\n",
    "gan_model, generator_model = train_or_load_model(latent_dim, epochs, batch_size)"
   ]
  },
  {
   "cell_type": "code",
   "execution_count": 12,
   "id": "c8f4cf62",
   "metadata": {},
   "outputs": [
    {
     "name": "stdout",
     "output_type": "stream",
     "text": [
      "1/1 [==============================] - 0s 28ms/step\n"
     ]
    },
    {
     "data": {
      "image/png": "[encoded data removed]",
      "text/plain": [
       "<Figure size 640x480 with 1 Axes>"
      ]
     },
     "metadata": {},
     "output_type": "display_data"
    }
   ],
   "source": [
    "generate_and_show_image(gan_model.layers[0], gan_model, 1000, latent_dim)"
   ]
  }
 ],
 "metadata": {
  "kernelspec": {
   "display_name": "Python 3 (ipykernel)",
   "language": "python",
   "name": "python3"
  },
  "language_info": {
   "codemirror_mode": {
    "name": "ipython",
    "version": 3
   },
   "file_extension": ".py",
   "mimetype": "text/x-python",
   "name": "python",
   "nbconvert_exporter": "python",
   "pygments_lexer": "ipython3",
   "version": "3.10.13"
  }
 },
 "nbformat": 4,
 "nbformat_minor": 5
}
